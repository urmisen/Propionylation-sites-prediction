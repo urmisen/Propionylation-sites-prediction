{
 "cells": [
  {
   "cell_type": "code",
   "execution_count": 61,
   "metadata": {
    "colab": {
     "base_uri": "https://localhost:8080/",
     "height": 34
    },
    "colab_type": "code",
    "id": "195w9SHG_xFi",
    "outputId": "26e245e2-e4a8-4140-c12e-8b4363cbce84"
   },
   "outputs": [
    {
     "name": "stdout",
     "output_type": "stream",
     "text": [
      "Drive already mounted at /content/drive/; to attempt to forcibly remount, call drive.mount(\"/content/drive/\", force_remount=True).\n"
     ]
    }
   ],
   "source": [
    "from google.colab import drive\n",
    "drive.mount('/content/drive/')"
   ]
  },
  {
   "cell_type": "code",
   "execution_count": 62,
   "metadata": {
    "colab": {
     "base_uri": "https://localhost:8080/",
     "height": 904
    },
    "colab_type": "code",
    "id": "L4gXPxhfAyar",
    "outputId": "ddeb7483-f931-4302-aa70-a4d095876b3c"
   },
   "outputs": [
    {
     "name": "stdout",
     "output_type": "stream",
     "text": [
      "Requirement already satisfied: tensorflow in /usr/local/lib/python3.6/dist-packages (2.2.0)\n",
      "Requirement already satisfied: keras in /usr/local/lib/python3.6/dist-packages (2.3.1)\n",
      "Requirement already satisfied: numpy in /usr/local/lib/python3.6/dist-packages (1.18.4)\n",
      "Requirement already satisfied: matplotlib in /usr/local/lib/python3.6/dist-packages (3.2.1)\n",
      "Requirement already satisfied: pandas in /usr/local/lib/python3.6/dist-packages (1.0.3)\n",
      "Requirement already satisfied: sklearn in /usr/local/lib/python3.6/dist-packages (0.0)\n",
      "Requirement already satisfied: Bio in /usr/local/lib/python3.6/dist-packages (0.1.0)\n",
      "Requirement already satisfied: gast==0.3.3 in /usr/local/lib/python3.6/dist-packages (from tensorflow) (0.3.3)\n",
      "Requirement already satisfied: termcolor>=1.1.0 in /usr/local/lib/python3.6/dist-packages (from tensorflow) (1.1.0)\n",
      "Requirement already satisfied: absl-py>=0.7.0 in /usr/local/lib/python3.6/dist-packages (from tensorflow) (0.9.0)\n",
      "Requirement already satisfied: keras-preprocessing>=1.1.0 in /usr/local/lib/python3.6/dist-packages (from tensorflow) (1.1.2)\n",
      "Requirement already satisfied: tensorboard<2.3.0,>=2.2.0 in /usr/local/lib/python3.6/dist-packages (from tensorflow) (2.2.1)\n",
      "Requirement already satisfied: protobuf>=3.8.0 in /usr/local/lib/python3.6/dist-packages (from tensorflow) (3.10.0)\n",
      "Requirement already satisfied: six>=1.12.0 in /usr/local/lib/python3.6/dist-packages (from tensorflow) (1.12.0)\n",
      "Requirement already satisfied: google-pasta>=0.1.8 in /usr/local/lib/python3.6/dist-packages (from tensorflow) (0.2.0)\n",
      "Requirement already satisfied: grpcio>=1.8.6 in /usr/local/lib/python3.6/dist-packages (from tensorflow) (1.29.0)\n",
      "Requirement already satisfied: opt-einsum>=2.3.2 in /usr/local/lib/python3.6/dist-packages (from tensorflow) (3.2.1)\n",
      "Requirement already satisfied: tensorflow-estimator<2.3.0,>=2.2.0 in /usr/local/lib/python3.6/dist-packages (from tensorflow) (2.2.0)\n",
      "Requirement already satisfied: scipy==1.4.1; python_version >= \"3\" in /usr/local/lib/python3.6/dist-packages (from tensorflow) (1.4.1)\n",
      "Requirement already satisfied: astunparse==1.6.3 in /usr/local/lib/python3.6/dist-packages (from tensorflow) (1.6.3)\n",
      "Requirement already satisfied: h5py<2.11.0,>=2.10.0 in /usr/local/lib/python3.6/dist-packages (from tensorflow) (2.10.0)\n",
      "Requirement already satisfied: wheel>=0.26; python_version >= \"3\" in /usr/local/lib/python3.6/dist-packages (from tensorflow) (0.34.2)\n",
      "Requirement already satisfied: wrapt>=1.11.1 in /usr/local/lib/python3.6/dist-packages (from tensorflow) (1.12.1)\n",
      "Requirement already satisfied: pyyaml in /usr/local/lib/python3.6/dist-packages (from keras) (3.13)\n",
      "Requirement already satisfied: keras-applications>=1.0.6 in /usr/local/lib/python3.6/dist-packages (from keras) (1.0.8)\n",
      "Requirement already satisfied: kiwisolver>=1.0.1 in /usr/local/lib/python3.6/dist-packages (from matplotlib) (1.2.0)\n",
      "Requirement already satisfied: pyparsing!=2.0.4,!=2.1.2,!=2.1.6,>=2.0.1 in /usr/local/lib/python3.6/dist-packages (from matplotlib) (2.4.7)\n",
      "Requirement already satisfied: python-dateutil>=2.1 in /usr/local/lib/python3.6/dist-packages (from matplotlib) (2.8.1)\n",
      "Requirement already satisfied: cycler>=0.10 in /usr/local/lib/python3.6/dist-packages (from matplotlib) (0.10.0)\n",
      "Requirement already satisfied: pytz>=2017.2 in /usr/local/lib/python3.6/dist-packages (from pandas) (2018.9)\n",
      "Requirement already satisfied: scikit-learn in /usr/local/lib/python3.6/dist-packages (from sklearn) (0.22.2.post1)\n",
      "Requirement already satisfied: requests<3,>=2.21.0 in /usr/local/lib/python3.6/dist-packages (from tensorboard<2.3.0,>=2.2.0->tensorflow) (2.23.0)\n",
      "Requirement already satisfied: google-auth-oauthlib<0.5,>=0.4.1 in /usr/local/lib/python3.6/dist-packages (from tensorboard<2.3.0,>=2.2.0->tensorflow) (0.4.1)\n",
      "Requirement already satisfied: google-auth<2,>=1.6.3 in /usr/local/lib/python3.6/dist-packages (from tensorboard<2.3.0,>=2.2.0->tensorflow) (1.7.2)\n",
      "Requirement already satisfied: setuptools>=41.0.0 in /usr/local/lib/python3.6/dist-packages (from tensorboard<2.3.0,>=2.2.0->tensorflow) (46.4.0)\n",
      "Requirement already satisfied: werkzeug>=0.11.15 in /usr/local/lib/python3.6/dist-packages (from tensorboard<2.3.0,>=2.2.0->tensorflow) (1.0.1)\n",
      "Requirement already satisfied: markdown>=2.6.8 in /usr/local/lib/python3.6/dist-packages (from tensorboard<2.3.0,>=2.2.0->tensorflow) (3.2.2)\n",
      "Requirement already satisfied: tensorboard-plugin-wit>=1.6.0 in /usr/local/lib/python3.6/dist-packages (from tensorboard<2.3.0,>=2.2.0->tensorflow) (1.6.0.post3)\n",
      "Requirement already satisfied: joblib>=0.11 in /usr/local/lib/python3.6/dist-packages (from scikit-learn->sklearn) (0.15.1)\n",
      "Requirement already satisfied: idna<3,>=2.5 in /usr/local/lib/python3.6/dist-packages (from requests<3,>=2.21.0->tensorboard<2.3.0,>=2.2.0->tensorflow) (2.9)\n",
      "Requirement already satisfied: chardet<4,>=3.0.2 in /usr/local/lib/python3.6/dist-packages (from requests<3,>=2.21.0->tensorboard<2.3.0,>=2.2.0->tensorflow) (3.0.4)\n",
      "Requirement already satisfied: certifi>=2017.4.17 in /usr/local/lib/python3.6/dist-packages (from requests<3,>=2.21.0->tensorboard<2.3.0,>=2.2.0->tensorflow) (2020.4.5.1)\n",
      "Requirement already satisfied: urllib3!=1.25.0,!=1.25.1,<1.26,>=1.21.1 in /usr/local/lib/python3.6/dist-packages (from requests<3,>=2.21.0->tensorboard<2.3.0,>=2.2.0->tensorflow) (1.24.3)\n",
      "Requirement already satisfied: requests-oauthlib>=0.7.0 in /usr/local/lib/python3.6/dist-packages (from google-auth-oauthlib<0.5,>=0.4.1->tensorboard<2.3.0,>=2.2.0->tensorflow) (1.3.0)\n",
      "Requirement already satisfied: rsa<4.1,>=3.1.4 in /usr/local/lib/python3.6/dist-packages (from google-auth<2,>=1.6.3->tensorboard<2.3.0,>=2.2.0->tensorflow) (4.0)\n",
      "Requirement already satisfied: pyasn1-modules>=0.2.1 in /usr/local/lib/python3.6/dist-packages (from google-auth<2,>=1.6.3->tensorboard<2.3.0,>=2.2.0->tensorflow) (0.2.8)\n",
      "Requirement already satisfied: cachetools<3.2,>=2.0.0 in /usr/local/lib/python3.6/dist-packages (from google-auth<2,>=1.6.3->tensorboard<2.3.0,>=2.2.0->tensorflow) (3.1.1)\n",
      "Requirement already satisfied: importlib-metadata; python_version < \"3.8\" in /usr/local/lib/python3.6/dist-packages (from markdown>=2.6.8->tensorboard<2.3.0,>=2.2.0->tensorflow) (1.6.0)\n",
      "Requirement already satisfied: oauthlib>=3.0.0 in /usr/local/lib/python3.6/dist-packages (from requests-oauthlib>=0.7.0->google-auth-oauthlib<0.5,>=0.4.1->tensorboard<2.3.0,>=2.2.0->tensorflow) (3.1.0)\n",
      "Requirement already satisfied: pyasn1>=0.1.3 in /usr/local/lib/python3.6/dist-packages (from rsa<4.1,>=3.1.4->google-auth<2,>=1.6.3->tensorboard<2.3.0,>=2.2.0->tensorflow) (0.4.8)\n",
      "Requirement already satisfied: zipp>=0.5 in /usr/local/lib/python3.6/dist-packages (from importlib-metadata; python_version < \"3.8\"->markdown>=2.6.8->tensorboard<2.3.0,>=2.2.0->tensorflow) (3.1.0)\n"
     ]
    }
   ],
   "source": [
    "!pip install tensorflow keras numpy matplotlib pandas sklearn Bio"
   ]
  },
  {
   "cell_type": "code",
   "execution_count": 0,
   "metadata": {
    "colab": {},
    "colab_type": "code",
    "id": "SE_Q9GHkAmeh"
   },
   "outputs": [],
   "source": [
    "#import the libraries\n",
    "# from Bio import SeqIO\n",
    "import pandas as pd\n",
    "import numpy as np\n",
    "from keras.models import Sequential\n",
    "from keras.layers import Dense, Activation, Dropout, Flatten, Conv2D, MaxPooling2D, AveragePooling2D, Lambda\n",
    "from keras.datasets import mnist\n",
    "from keras.utils import to_categorical\n",
    "import matplotlib.pyplot as plt\n",
    "from sklearn.model_selection import train_test_split\n",
    "import re, ast\n",
    "import keras\n",
    "import tensorflow\n",
    "np.random.seed(1000)"
   ]
  },
  {
   "cell_type": "code",
   "execution_count": 92,
   "metadata": {
    "colab": {
     "base_uri": "https://localhost:8080/",
     "height": 329
    },
    "colab_type": "code",
    "id": "TXq5CH-bqH22",
    "outputId": "da7841e2-7b11-4d5e-89b7-8b5ad26fab36"
   },
   "outputs": [
    {
     "name": "stdout",
     "output_type": "stream",
     "text": [
      "Class 0: 2767\n",
      "Class 1: 327\n",
      "Proportion: 8.46 : 1\n"
     ]
    },
    {
     "data": {
      "image/png": "[encoded data removed]",
      "text/plain": [
       "<Figure size 432x288 with 1 Axes>"
      ]
     },
     "metadata": {
      "needs_background": "light",
      "tags": []
     },
     "output_type": "display_data"
    }
   ],
   "source": [
    "df=pd.read_csv('/content/drive/My Drive/Colab Notebooks/Binary_Encoding.csv')\n",
    "target_count = df.Propionylation.value_counts()\n",
    "print('Class 0:', target_count[0])\n",
    "print('Class 1:', target_count[1])\n",
    "print('Proportion:', round(target_count[0] / target_count[1], 2), ': 1')\n",
    "\n",
    "target_count.plot(kind='bar', title='Count (target)');"
   ]
  },
  {
   "cell_type": "code",
   "execution_count": 93,
   "metadata": {
    "colab": {
     "base_uri": "https://localhost:8080/",
     "height": 34
    },
    "colab_type": "code",
    "id": "FnZmEphPqMou",
    "outputId": "44cfad43-9efd-4821-f085-c305fae14513"
   },
   "outputs": [
    {
     "name": "stdout",
     "output_type": "stream",
     "text": [
      "2767\n"
     ]
    }
   ],
   "source": [
    "# Class count\n",
    "count_class_0, count_class_1 = df.Propionylation.value_counts()\n",
    "\n",
    "# Divide by class\n",
    "df_class_0 = df[df.Propionylation == 0]\n",
    "df_class_1 = df[df.Propionylation == 1]\n",
    "print(len(df_class_0))"
   ]
  },
  {
   "cell_type": "code",
   "execution_count": 94,
   "metadata": {
    "colab": {
     "base_uri": "https://localhost:8080/",
     "height": 346
    },
    "colab_type": "code",
    "id": "MzM0or8aqRHV",
    "outputId": "4911c8ad-d5a9-4262-a3f2-5a4cd3a42b40"
   },
   "outputs": [
    {
     "name": "stdout",
     "output_type": "stream",
     "text": [
      "Random over-sampling:\n",
      "1    2767\n",
      "0    2767\n",
      "Name: Propionylation, dtype: int64\n"
     ]
    },
    {
     "data": {
      "image/png": "[encoded data removed]",
      "text/plain": [
       "<Figure size 432x288 with 1 Axes>"
      ]
     },
     "metadata": {
      "needs_background": "light",
      "tags": []
     },
     "output_type": "display_data"
    }
   ],
   "source": [
    "\n",
    "import pandas as pd\n",
    "df_class_1_over = df_class_1.sample(count_class_0, replace=True)\n",
    "df_over = pd.concat([df_class_0, df_class_1_over], axis=0)\n",
    "\n",
    "print('Random over-sampling:')\n",
    "print(df_over.Propionylation.value_counts())\n",
    "\n",
    "df_over.Propionylation.value_counts().plot(kind='bar', title='Count (target)');"
   ]
  },
  {
   "cell_type": "code",
   "execution_count": 0,
   "metadata": {
    "colab": {},
    "colab_type": "code",
    "id": "qdJTzp-5qnr2"
   },
   "outputs": [],
   "source": [
    "X=df_over.Image_Array"
   ]
  },
  {
   "cell_type": "code",
   "execution_count": 96,
   "metadata": {
    "colab": {
     "base_uri": "https://localhost:8080/",
     "height": 187
    },
    "colab_type": "code",
    "id": "nW5Lk4tzb9HM",
    "outputId": "ca62995f-dbf4-48a2-8e07-d2deda4c83de"
   },
   "outputs": [
    {
     "name": "stdout",
     "output_type": "stream",
     "text": [
      "0    [[0, 0, 0, 0, 0, 0, 0, 0, 0, 0, 0, 0, 0, 0, 1,...\n",
      "0    [[0, 0, 0, 0, 0, 0, 0, 0, 0, 0, 0, 0, 0, 0, 1,...\n",
      "0    [[0, 0, 0, 0, 0, 0, 0, 0, 0, 0, 0, 0, 0, 0, 1,...\n",
      "0    [[0, 0, 0, 0, 0, 0, 0, 0, 0, 0, 0, 0, 0, 0, 1,...\n",
      "0    [[0, 0, 0, 0, 0, 0, 0, 0, 0, 0, 0, 0, 0, 0, 1,...\n",
      "0    [[0, 0, 0, 0, 0, 0, 0, 0, 0, 0, 0, 0, 0, 0, 1,...\n",
      "0    [[0, 0, 0, 0, 0, 0, 0, 0, 0, 0, 0, 0, 0, 0, 1,...\n",
      "0    [[0, 0, 0, 0, 0, 0, 0, 0, 0, 0, 0, 0, 0, 0, 1,...\n",
      "0    [[0, 0, 0, 0, 0, 0, 0, 0, 0, 0, 0, 0, 0, 0, 1,...\n",
      "Name: Image_Array, dtype: object\n"
     ]
    }
   ],
   "source": [
    "print (X[0])"
   ]
  },
  {
   "cell_type": "code",
   "execution_count": 0,
   "metadata": {
    "colab": {},
    "colab_type": "code",
    "id": "NpVj3V5uqrZC"
   },
   "outputs": [],
   "source": [
    "Y=df_over.Propionylation"
   ]
  },
  {
   "cell_type": "code",
   "execution_count": 98,
   "metadata": {
    "colab": {
     "base_uri": "https://localhost:8080/",
     "height": 187
    },
    "colab_type": "code",
    "id": "8Hy0r84BcF0f",
    "outputId": "6badb4eb-81ce-4672-8511-48b18cd467ab"
   },
   "outputs": [
    {
     "name": "stdout",
     "output_type": "stream",
     "text": [
      "0    1\n",
      "0    1\n",
      "0    1\n",
      "0    1\n",
      "0    1\n",
      "0    1\n",
      "0    1\n",
      "0    1\n",
      "0    1\n",
      "Name: Propionylation, dtype: int64\n"
     ]
    }
   ],
   "source": [
    "print (Y[0])"
   ]
  },
  {
   "cell_type": "code",
   "execution_count": 99,
   "metadata": {
    "colab": {
     "base_uri": "https://localhost:8080/",
     "height": 85
    },
    "colab_type": "code",
    "id": "YUOwZjt3cPDP",
    "outputId": "14163863-20f8-4ea5-849d-c3d3b33870c0"
   },
   "outputs": [
    {
     "name": "stdout",
     "output_type": "stream",
     "text": [
      "The size of our training \"X1\"(input feature) is (4427,)\n",
      "The size of our testing \"X2\"(input feature) is (1107,)\n",
      "The size of our training \"Y1\"(output feature) is (4427,)\n",
      "The size of our testing \"Y2\"(output feature) is (1107,)\n"
     ]
    }
   ],
   "source": [
    "from sklearn.model_selection import train_test_split\n",
    "X1,X2,Y1,Y2=train_test_split(X,Y,test_size=0.2,random_state=20)\n",
    "\n",
    "print('The size of our training \"X1\"(input feature) is',X1.shape)\n",
    "print('The size of our testing \"X2\"(input feature) is',X2.shape)\n",
    "print('The size of our training \"Y1\"(output feature) is',Y1.shape)\n",
    "print('The size of our testing \"Y2\"(output feature) is',Y2.shape)"
   ]
  },
  {
   "cell_type": "code",
   "execution_count": 100,
   "metadata": {
    "colab": {
     "base_uri": "https://localhost:8080/",
     "height": 493
    },
    "colab_type": "code",
    "id": "0YKqUtfNqu-V",
    "outputId": "eb3a31ca-50d9-493e-d072-d09d98b7196d"
   },
   "outputs": [
    {
     "name": "stdout",
     "output_type": "stream",
     "text": [
      "4427\n",
      "25\n",
      "4427\n",
      "[[0 0 0 0 0 0 0 0 0 1 0 0 0 0 0 0 0 0 0 0 0]\n",
      " [0 0 0 0 0 0 0 0 0 0 0 0 0 0 1 0 0 0 0 0 0]\n",
      " [0 0 0 1 0 0 0 0 0 0 0 0 0 0 0 0 0 0 0 0 0]\n",
      " [1 0 0 0 0 0 0 0 0 0 0 0 0 0 0 0 0 0 0 0 0]\n",
      " [0 0 0 0 0 0 0 0 0 0 0 0 0 0 0 0 1 0 0 0 0]\n",
      " [0 0 0 0 0 1 0 0 0 0 0 0 0 0 0 0 0 0 0 0 0]\n",
      " [1 0 0 0 0 0 0 0 0 0 0 0 0 0 0 0 0 0 0 0 0]\n",
      " [0 0 0 0 0 1 0 0 0 0 0 0 0 0 0 0 0 0 0 0 0]\n",
      " [0 0 0 0 0 0 0 0 0 0 1 0 0 0 0 0 0 0 0 0 0]\n",
      " [0 0 0 0 0 0 0 0 0 0 1 0 0 0 0 0 0 0 0 0 0]\n",
      " [0 0 1 0 0 0 0 0 0 0 0 0 0 0 0 0 0 0 0 0 0]\n",
      " [0 0 0 0 0 0 0 0 0 0 0 0 0 0 0 0 0 1 0 0 0]\n",
      " [0 0 0 0 0 0 0 0 1 0 0 0 0 0 0 0 0 0 0 0 0]\n",
      " [0 0 0 0 0 0 0 0 0 0 0 0 0 0 1 0 0 0 0 0 0]\n",
      " [1 0 0 0 0 0 0 0 0 0 0 0 0 0 0 0 0 0 0 0 0]\n",
      " [0 0 0 0 0 0 0 0 0 1 0 0 0 0 0 0 0 0 0 0 0]\n",
      " [0 0 0 1 0 0 0 0 0 0 0 0 0 0 0 0 0 0 0 0 0]\n",
      " [0 0 1 0 0 0 0 0 0 0 0 0 0 0 0 0 0 0 0 0 0]\n",
      " [1 0 0 0 0 0 0 0 0 0 0 0 0 0 0 0 0 0 0 0 0]\n",
      " [0 0 0 0 0 1 0 0 0 0 0 0 0 0 0 0 0 0 0 0 0]\n",
      " [0 0 0 0 0 0 0 0 0 0 0 0 0 0 0 0 0 0 1 0 0]\n",
      " [0 0 1 0 0 0 0 0 0 0 0 0 0 0 0 0 0 0 0 0 0]\n",
      " [0 0 0 1 0 0 0 0 0 0 0 0 0 0 0 0 0 0 0 0 0]\n",
      " [0 0 0 1 0 0 0 0 0 0 0 0 0 0 0 0 0 0 0 0 0]\n",
      " [0 0 0 0 0 0 0 0 1 0 0 0 0 0 0 0 0 0 0 0 0]]\n"
     ]
    }
   ],
   "source": [
    "NP_list=[]\n",
    "y_train=np.array(Y1)\n",
    "print(len(y_train))\n",
    "for i in X1:\n",
    "    NP=np.array(ast.literal_eval(i))\n",
    "    NP_list.append(NP)\n",
    "print(len(NP_list[0]))\n",
    "X_train=np.array(NP_list)\n",
    "print(len(X_train))\n",
    "print(X_train[0])"
   ]
  },
  {
   "cell_type": "code",
   "execution_count": 101,
   "metadata": {
    "colab": {
     "base_uri": "https://localhost:8080/",
     "height": 493
    },
    "colab_type": "code",
    "id": "mSfVhOnJq0ga",
    "outputId": "6d3ecc7d-e795-4d0f-ea50-446e9323eae7"
   },
   "outputs": [
    {
     "name": "stdout",
     "output_type": "stream",
     "text": [
      "1107\n",
      "25\n",
      "1107\n",
      "[[0 0 0 0 0 1 0 0 0 0 0 0 0 0 0 0 0 0 0 0 0]\n",
      " [0 0 0 0 0 0 0 0 0 0 0 0 0 0 1 0 0 0 0 0 0]\n",
      " [0 0 0 0 1 0 0 0 0 0 0 0 0 0 0 0 0 0 0 0 0]\n",
      " [0 0 0 0 0 0 0 0 0 0 0 0 0 1 0 0 0 0 0 0 0]\n",
      " [0 0 1 0 0 0 0 0 0 0 0 0 0 0 0 0 0 0 0 0 0]\n",
      " [0 0 0 1 0 0 0 0 0 0 0 0 0 0 0 0 0 0 0 0 0]\n",
      " [0 0 0 0 0 0 0 0 0 0 0 0 0 0 0 0 0 1 0 0 0]\n",
      " [0 0 0 0 0 0 0 0 0 0 0 0 0 0 0 0 0 1 0 0 0]\n",
      " [0 0 0 0 0 0 0 0 0 0 0 0 1 0 0 0 0 0 0 0 0]\n",
      " [0 0 0 0 0 0 0 0 0 0 0 0 0 0 0 0 0 1 0 0 0]\n",
      " [0 0 0 0 0 0 0 0 0 0 0 0 1 0 0 0 0 0 0 0 0]\n",
      " [0 0 0 0 0 0 0 0 0 0 0 0 0 0 0 0 0 1 0 0 0]\n",
      " [0 0 0 0 0 0 0 0 1 0 0 0 0 0 0 0 0 0 0 0 0]\n",
      " [0 0 0 0 0 0 0 0 0 0 0 0 0 0 1 0 0 0 0 0 0]\n",
      " [0 0 0 0 0 1 0 0 0 0 0 0 0 0 0 0 0 0 0 0 0]\n",
      " [0 0 0 0 0 0 0 0 1 0 0 0 0 0 0 0 0 0 0 0 0]\n",
      " [0 0 0 1 0 0 0 0 0 0 0 0 0 0 0 0 0 0 0 0 0]\n",
      " [0 0 0 1 0 0 0 0 0 0 0 0 0 0 0 0 0 0 0 0 0]\n",
      " [0 0 0 0 0 0 0 1 0 0 0 0 0 0 0 0 0 0 0 0 0]\n",
      " [0 0 0 0 0 0 0 0 0 1 0 0 0 0 0 0 0 0 0 0 0]\n",
      " [0 0 0 0 0 0 0 0 0 0 0 0 0 0 0 0 0 1 0 0 0]\n",
      " [0 0 0 1 0 0 0 0 0 0 0 0 0 0 0 0 0 0 0 0 0]\n",
      " [0 0 0 0 0 0 0 0 0 0 0 0 0 1 0 0 0 0 0 0 0]\n",
      " [0 0 1 0 0 0 0 0 0 0 0 0 0 0 0 0 0 0 0 0 0]\n",
      " [0 0 0 1 0 0 0 0 0 0 0 0 0 0 0 0 0 0 0 0 0]]\n"
     ]
    }
   ],
   "source": [
    "NP_list=[]\n",
    "y_test=np.array(Y2)\n",
    "print(len(y_test))\n",
    "for i in X2:\n",
    "    NP=np.array(ast.literal_eval(i))\n",
    "    NP_list.append(NP)\n",
    "print(len(NP_list[0]))\n",
    "X_test=np.array(NP_list)\n",
    "print(len(X_test))\n",
    "print(X_test[0])"
   ]
  },
  {
   "cell_type": "code",
   "execution_count": 0,
   "metadata": {
    "colab": {},
    "colab_type": "code",
    "id": "F6_7OyQ8q3gD"
   },
   "outputs": [],
   "source": [
    "#Reshape the data to fit the model\n",
    "X_train = X_train.reshape(4427,25,21,1)\n",
    "X_test = X_test.reshape(1107,25,21,1)"
   ]
  },
  {
   "cell_type": "code",
   "execution_count": 103,
   "metadata": {
    "colab": {
     "base_uri": "https://localhost:8080/",
     "height": 136
    },
    "colab_type": "code",
    "id": "wcRDpTo1BIL1",
    "outputId": "6ebfb839-f78a-4fc0-f484-660688ee8e4d"
   },
   "outputs": [
    {
     "name": "stdout",
     "output_type": "stream",
     "text": [
      "[[0. 1.]\n",
      " [0. 1.]\n",
      " [0. 1.]\n",
      " ...\n",
      " [1. 0.]\n",
      " [1. 0.]\n",
      " [0. 1.]]\n"
     ]
    }
   ],
   "source": [
    "# One-Hot Encode target column (Y-Data sets) : Convert the labels into a set of 10 numbers to input into the neural network\n",
    "y_train_one_hot = to_categorical(y_train)\n",
    "y_test_one_hot = to_categorical(y_test)\n",
    "print(y_test_one_hot)"
   ]
  },
  {
   "cell_type": "code",
   "execution_count": 0,
   "metadata": {
    "colab": {},
    "colab_type": "code",
    "id": "EDuWHRGvHr_R"
   },
   "outputs": [],
   "source": [
    "# ... feature standarization\n",
    "mean_px = X_train.mean().astype(np.float32)\n",
    "std_px = 255.0\n",
    "\n",
    "def standardize(x):\n",
    "    return (x-mean_px)/std_px"
   ]
  },
  {
   "cell_type": "code",
   "execution_count": 0,
   "metadata": {
    "colab": {},
    "colab_type": "code",
    "id": "KBBJmgy5B99X"
   },
   "outputs": [],
   "source": [
    "\n",
    "from keras.layers import MaxPooling2D\n",
    "#Build the CNN model\n",
    "model = Sequential()\n",
    "# add model layers\n",
    "model.add(Conv2D(128, kernel_size=3, activation='relu',padding=\"same\", input_shape=(25,21,1)))\n",
    "model.add(Conv2D(128, kernel_size=3, activation='relu',padding=\"same\"))\n",
    "model.add(Conv2D(128, kernel_size=3, activation='relu',padding=\"same\"))\n",
    "model.add(Dropout(0.4))\n",
    "model.add(AveragePooling2D(pool_size=(2,2)))\n",
    "model.add(Dropout(0.4))\n",
    "\n",
    "model.add(Conv2D(64, kernel_size=3, activation='relu',padding=\"same\"))\n",
    "model.add(Conv2D(64, kernel_size=3, activation='relu',padding=\"same\"))\n",
    "model.add(Conv2D(64, kernel_size=3, activation='relu',padding=\"same\"))\n",
    "model.add(Dropout(0.4))\n",
    "model.add(AveragePooling2D(pool_size=(2,2)))\n",
    "model.add(Dropout(0.4))\n",
    "model.add(Flatten())\n",
    "model.add(Dense(units=256, activation='relu'))\n",
    "model.add(Dense(units=256, activation='relu'))\n",
    "model.add(Dense(units=2, activation='softmax'))"
   ]
  },
  {
   "cell_type": "code",
   "execution_count": 0,
   "metadata": {
    "colab": {},
    "colab_type": "code",
    "id": "slDVUObpGv9G"
   },
   "outputs": [],
   "source": [
    "#Compile the model\n",
    "from keras.optimizers import Adam, SGD\n",
    "opt = Adam(lr=1.0e-4)\n",
    "model.compile(optimizer=opt, loss='categorical_crossentropy', metrics=['accuracy'])"
   ]
  },
  {
   "cell_type": "code",
   "execution_count": 107,
   "metadata": {
    "colab": {
     "base_uri": "https://localhost:8080/",
     "height": 544
    },
    "colab_type": "code",
    "id": "aeEt5P5hCB8N",
    "outputId": "6d87ddf5-eb25-426d-c9b7-6e8567020740"
   },
   "outputs": [
    {
     "name": "stdout",
     "output_type": "stream",
     "text": [
      "Train on 3984 samples, validate on 443 samples\n",
      "Epoch 1/15\n",
      "3984/3984 [==============================] - 4s 1ms/step - loss: 0.6930 - accuracy: 0.5090 - val_loss: 0.6922 - val_accuracy: 0.5079\n",
      "Epoch 2/15\n",
      "3984/3984 [==============================] - 4s 957us/step - loss: 0.6872 - accuracy: 0.5359 - val_loss: 0.6845 - val_accuracy: 0.5530\n",
      "Epoch 3/15\n",
      "3984/3984 [==============================] - 4s 956us/step - loss: 0.6664 - accuracy: 0.5909 - val_loss: 0.6645 - val_accuracy: 0.6117\n",
      "Epoch 4/15\n",
      "3984/3984 [==============================] - 4s 967us/step - loss: 0.6495 - accuracy: 0.6308 - val_loss: 0.6562 - val_accuracy: 0.6208\n",
      "Epoch 5/15\n",
      "3984/3984 [==============================] - 4s 954us/step - loss: 0.6339 - accuracy: 0.6368 - val_loss: 0.6648 - val_accuracy: 0.6140\n",
      "Epoch 6/15\n",
      "3984/3984 [==============================] - 4s 956us/step - loss: 0.6299 - accuracy: 0.6386 - val_loss: 0.6321 - val_accuracy: 0.6388\n",
      "Epoch 7/15\n",
      "3984/3984 [==============================] - 4s 959us/step - loss: 0.6156 - accuracy: 0.6609 - val_loss: 0.6197 - val_accuracy: 0.6411\n",
      "Epoch 8/15\n",
      "3984/3984 [==============================] - 4s 956us/step - loss: 0.5971 - accuracy: 0.6702 - val_loss: 0.6169 - val_accuracy: 0.6659\n",
      "Epoch 9/15\n",
      "3984/3984 [==============================] - 4s 959us/step - loss: 0.5849 - accuracy: 0.6898 - val_loss: 0.5782 - val_accuracy: 0.7065\n",
      "Epoch 10/15\n",
      "3984/3984 [==============================] - 4s 957us/step - loss: 0.5563 - accuracy: 0.7101 - val_loss: 0.5502 - val_accuracy: 0.7427\n",
      "Epoch 11/15\n",
      "3984/3984 [==============================] - 4s 950us/step - loss: 0.5374 - accuracy: 0.7264 - val_loss: 0.5283 - val_accuracy: 0.7585\n",
      "Epoch 12/15\n",
      "3984/3984 [==============================] - 4s 952us/step - loss: 0.5116 - accuracy: 0.7397 - val_loss: 0.5114 - val_accuracy: 0.7675\n",
      "Epoch 13/15\n",
      "3984/3984 [==============================] - 4s 955us/step - loss: 0.4869 - accuracy: 0.7653 - val_loss: 0.4592 - val_accuracy: 0.8149\n",
      "Epoch 14/15\n",
      "3984/3984 [==============================] - 4s 956us/step - loss: 0.4559 - accuracy: 0.7864 - val_loss: 0.4571 - val_accuracy: 0.7833\n",
      "Epoch 15/15\n",
      "3984/3984 [==============================] - 4s 955us/step - loss: 0.4155 - accuracy: 0.8057 - val_loss: 0.4121 - val_accuracy: 0.8081\n"
     ]
    }
   ],
   "source": [
    "#Train the model\n",
    "#Batch: Total number of training examples present in a single batch (None = default 32)\n",
    "#Epoch:The number of iterations when an ENTIRE dataset is passed forward and backward through the neural network only ONCE.\n",
    "#Fit: Another word for train\n",
    "hist = model.fit(X_train, y_train_one_hot, validation_split=0.10, epochs=15)"
   ]
  },
  {
   "cell_type": "code",
   "execution_count": 108,
   "metadata": {
    "colab": {
     "base_uri": "https://localhost:8080/",
     "height": 136
    },
    "colab_type": "code",
    "id": "v3ZzeyiqC8Zl",
    "outputId": "d1e7252b-c024-497f-e8d7-da169dfd93dc"
   },
   "outputs": [
    {
     "data": {
      "text/plain": [
       "array([[0.13649544, 0.8635045 ],\n",
       "       [0.2914762 , 0.7085238 ],\n",
       "       [0.30890337, 0.69109666],\n",
       "       ...,\n",
       "       [0.4419206 , 0.5580794 ],\n",
       "       [0.70779234, 0.2922077 ],\n",
       "       [0.19181643, 0.8081836 ]], dtype=float32)"
      ]
     },
     "execution_count": 108,
     "metadata": {
      "tags": []
     },
     "output_type": "execute_result"
    }
   ],
   "source": [
    "#Show predictions as probabilites for the first 4 images in the test set\n",
    "predictions = model.predict(X_test)\n",
    "predictions "
   ]
  },
  {
   "cell_type": "code",
   "execution_count": 109,
   "metadata": {
    "colab": {
     "base_uri": "https://localhost:8080/",
     "height": 34
    },
    "colab_type": "code",
    "id": "u4OgHJYuDD_x",
    "outputId": "e812a15b-2dcd-4551-a45d-b14405f0b3ca"
   },
   "outputs": [
    {
     "name": "stdout",
     "output_type": "stream",
     "text": [
      "[1 1 1 ... 1 0 1]\n"
     ]
    }
   ],
   "source": [
    "#Print our predicitons as number labels for the first 4 images\n",
    "y_pred=( np.argmax(predictions,axis=1))\n",
    "#Print the actual labels\n",
    "print(y_pred)"
   ]
  },
  {
   "cell_type": "code",
   "execution_count": 110,
   "metadata": {
    "colab": {
     "base_uri": "https://localhost:8080/",
     "height": 697
    },
    "colab_type": "code",
    "id": "rqOlI6JtDOkI",
    "outputId": "304f9918-f488-483e-f4bf-796e4bdb1938"
   },
   "outputs": [
    {
     "name": "stdout",
     "output_type": "stream",
     "text": [
      "Model: \"sequential_4\"\n",
      "_________________________________________________________________\n",
      "Layer (type)                 Output Shape              Param #   \n",
      "=================================================================\n",
      "conv2d_19 (Conv2D)           (None, 25, 21, 128)       1280      \n",
      "_________________________________________________________________\n",
      "conv2d_20 (Conv2D)           (None, 25, 21, 128)       147584    \n",
      "_________________________________________________________________\n",
      "conv2d_21 (Conv2D)           (None, 25, 21, 128)       147584    \n",
      "_________________________________________________________________\n",
      "dropout_13 (Dropout)         (None, 25, 21, 128)       0         \n",
      "_________________________________________________________________\n",
      "average_pooling2d_7 (Average (None, 12, 10, 128)       0         \n",
      "_________________________________________________________________\n",
      "dropout_14 (Dropout)         (None, 12, 10, 128)       0         \n",
      "_________________________________________________________________\n",
      "conv2d_22 (Conv2D)           (None, 12, 10, 64)        73792     \n",
      "_________________________________________________________________\n",
      "conv2d_23 (Conv2D)           (None, 12, 10, 64)        36928     \n",
      "_________________________________________________________________\n",
      "conv2d_24 (Conv2D)           (None, 12, 10, 64)        36928     \n",
      "_________________________________________________________________\n",
      "dropout_15 (Dropout)         (None, 12, 10, 64)        0         \n",
      "_________________________________________________________________\n",
      "average_pooling2d_8 (Average (None, 6, 5, 64)          0         \n",
      "_________________________________________________________________\n",
      "dropout_16 (Dropout)         (None, 6, 5, 64)          0         \n",
      "_________________________________________________________________\n",
      "flatten_4 (Flatten)          (None, 1920)              0         \n",
      "_________________________________________________________________\n",
      "dense_10 (Dense)             (None, 256)               491776    \n",
      "_________________________________________________________________\n",
      "dense_11 (Dense)             (None, 256)               65792     \n",
      "_________________________________________________________________\n",
      "dense_12 (Dense)             (None, 2)                 514       \n",
      "=================================================================\n",
      "Total params: 1,002,178\n",
      "Trainable params: 1,002,178\n",
      "Non-trainable params: 0\n",
      "_________________________________________________________________\n"
     ]
    }
   ],
   "source": [
    "model.summary()"
   ]
  },
  {
   "cell_type": "code",
   "execution_count": 111,
   "metadata": {
    "colab": {
     "base_uri": "https://localhost:8080/",
     "height": 51
    },
    "colab_type": "code",
    "id": "mJkUQoIrDWuR",
    "outputId": "60e0739c-d4d2-44ab-e42b-13b7d02050c4"
   },
   "outputs": [
    {
     "name": "stdout",
     "output_type": "stream",
     "text": [
      "4427/4427 [==============================] - 1s 279us/step\n",
      "Test results - Loss: 0.31608577469468574 - Accuracy: 88.95414471626282%\n"
     ]
    }
   ],
   "source": [
    "# evaluate the keras model\n",
    "accuracy = model.evaluate(X_train, y_train_one_hot)\n",
    "print(f'Test results - Loss: {accuracy[0]} - Accuracy: {accuracy[1]*100}%')"
   ]
  },
  {
   "cell_type": "code",
   "execution_count": 112,
   "metadata": {
    "colab": {
     "base_uri": "https://localhost:8080/",
     "height": 51
    },
    "colab_type": "code",
    "id": "YLM0sIHfDX3k",
    "outputId": "70256a25-d517-4691-8e02-320ce2f58ca7"
   },
   "outputs": [
    {
     "name": "stdout",
     "output_type": "stream",
     "text": [
      "1107/1107 [==============================] - 0s 280us/step\n",
      "Test results - Loss: 0.4099223194568138 - Accuracy: 81.3911497592926%\n"
     ]
    }
   ],
   "source": [
    "# evaluate the keras model\n",
    "accuracy = model.evaluate(X_test, y_test_one_hot)\n",
    "print(f'Test results - Loss: {accuracy[0]} - Accuracy: {accuracy[1]*100}%')"
   ]
  },
  {
   "cell_type": "code",
   "execution_count": 113,
   "metadata": {
    "colab": {
     "base_uri": "https://localhost:8080/",
     "height": 68
    },
    "colab_type": "code",
    "id": "APcVagEDDlnD",
    "outputId": "f2468381-8630-4996-c7c0-0fff4dcd5f38"
   },
   "outputs": [
    {
     "name": "stdout",
     "output_type": "stream",
     "text": [
      "                   predicted_not_Glutarylation  predicted_Glutarylation\n",
      "not_Glutarylation                          396                      158\n",
      "Glutarylation                               48                      505\n"
     ]
    }
   ],
   "source": [
    "from sklearn.metrics import classification_report,confusion_matrix\n",
    "\n",
    "cm=np.array(confusion_matrix(y_test,y_pred,labels=[0,1]))\n",
    "confusion=pd.DataFrame(cm,index=['not_Propionylation','Propionylation'],\n",
    "                        columns=['predicted_not_Propionylation','predicted_Propionylation'])\n",
    "print(confusion)"
   ]
  },
  {
   "cell_type": "code",
   "execution_count": 114,
   "metadata": {
    "colab": {
     "base_uri": "https://localhost:8080/",
     "height": 85
    },
    "colab_type": "code",
    "id": "l43hryssEKMf",
    "outputId": "97edc956-4ac1-46ab-d0bd-ca1905524f13"
   },
   "outputs": [
    {
     "name": "stdout",
     "output_type": "stream",
     "text": [
      "TP 505\n",
      "FP 158\n",
      "TN 396\n",
      "FN 48\n"
     ]
    }
   ],
   "source": [
    "True_Positive=confusion.at['Propionylation','predicted_Propionylation']\n",
    "False_Positive=confusion.at['not_Propionylation','predicted_Propionylation']\n",
    "True_Negative=confusion.at['not_Propionylation','predicted_not_Propionylation']\n",
    "False_Negative=confusion.at['Propionylation','predicted_not_Propionylation']\n",
    "print(\"TP\",True_Positive)\n",
    "print(\"FP\",False_Positive)\n",
    "print(\"TN\",True_Negative)\n",
    "print(\"FN\",False_Negative)"
   ]
  },
  {
   "cell_type": "code",
   "execution_count": 115,
   "metadata": {
    "colab": {
     "base_uri": "https://localhost:8080/",
     "height": 34
    },
    "colab_type": "code",
    "id": "A-OFWDyhEQsh",
    "outputId": "41e6b6bd-e949-43d8-e367-c1887a42fdde"
   },
   "outputs": [
    {
     "name": "stdout",
     "output_type": "stream",
     "text": [
      "Accuracy : 81.39114724480578\n"
     ]
    }
   ],
   "source": [
    "#Accuracy==>>accuracy = (correctly predicted class / total testing class) × 100%\n",
    "# accuracy_score(y_predict, y_test)\n",
    "\n",
    "total_testing_class=True_Positive+True_Negative+False_Positive+False_Negative\n",
    "correctly_predicted_class=True_Positive + True_Negative\n",
    "accuracy = (correctly_predicted_class / total_testing_class) * 100\n",
    "print(\"Accuracy :\",accuracy)"
   ]
  },
  {
   "cell_type": "code",
   "execution_count": 116,
   "metadata": {
    "colab": {
     "base_uri": "https://localhost:8080/",
     "height": 255
    },
    "colab_type": "code",
    "id": "ruZPLhVJY_l9",
    "outputId": "e391ee32-10a7-47b6-80be-68fc4fa1e8c3"
   },
   "outputs": [
    {
     "name": "stdout",
     "output_type": "stream",
     "text": [
      "Confusion Matrix :\n",
      "[[396 158]\n",
      " [ 48 505]]\n",
      "Accuracy Score : 0.8139114724480578\n",
      "Report : \n",
      "              precision    recall  f1-score   support\n",
      "\n",
      "           0       0.89      0.71      0.79       554\n",
      "           1       0.76      0.91      0.83       553\n",
      "\n",
      "    accuracy                           0.81      1107\n",
      "   macro avg       0.83      0.81      0.81      1107\n",
      "weighted avg       0.83      0.81      0.81      1107\n",
      "\n"
     ]
    }
   ],
   "source": [
    "from sklearn.metrics import confusion_matrix \n",
    "from sklearn.metrics import accuracy_score \n",
    "from sklearn.metrics import classification_report \n",
    "results = confusion_matrix(y_test,y_pred) \n",
    "print ('Confusion Matrix :')\n",
    "print(results) \n",
    "print ('Accuracy Score :',accuracy_score(y_test,y_pred))\n",
    "print ('Report : ')\n",
    "print (classification_report(y_test,y_pred))"
   ]
  },
  {
   "cell_type": "code",
   "execution_count": 117,
   "metadata": {
    "colab": {
     "base_uri": "https://localhost:8080/",
     "height": 34
    },
    "colab_type": "code",
    "id": "x3EQ1bZaEWJ9",
    "outputId": "9d5befeb-2920-4dba-fe4f-6eebc079fc6a"
   },
   "outputs": [
    {
     "name": "stdout",
     "output_type": "stream",
     "text": [
      "91.10170321384507\n"
     ]
    }
   ],
   "source": [
    "from sklearn.metrics import roc_curve\n",
    "from sklearn.metrics import roc_auc_score\n",
    "\n",
    "auc_lst=[]\n",
    "lr_probs = model.predict_proba(X_test)\n",
    "lr_probs = lr_probs[:, 1]\n",
    "lr_auc = (roc_auc_score(y_test, lr_probs))*100\n",
    "print(lr_auc)\n",
    "auc_lst.append(lr_auc)"
   ]
  },
  {
   "cell_type": "code",
   "execution_count": 118,
   "metadata": {
    "colab": {
     "base_uri": "https://localhost:8080/",
     "height": 283
    },
    "colab_type": "code",
    "id": "iDwM8wGkSHbB",
    "outputId": "2406595e-a668-4655-c158-e17d8fcb67c2"
   },
   "outputs": [
    {
     "data": {
      "image/png": "[encoded data removed]",
      "text/plain": [
       "<Figure size 432x288 with 1 Axes>"
      ]
     },
     "metadata": {
      "needs_background": "light",
      "tags": []
     },
     "output_type": "display_data"
    }
   ],
   "source": [
    "from matplotlib import pyplot\n",
    "# calculate roc curves\n",
    "fpr, tpr, _ = roc_curve(y_test, lr_probs)\n",
    "# plot the roc curve for the model\n",
    "# axis labels\n",
    "pyplot.xlabel('False Positive Rate')\n",
    "pyplot.ylabel('True Positive Rate')\n",
    "pyplot.plot(fpr,tpr,label=\"AUC=\"+str(auc_lst))\n",
    "# show the legend\n",
    "pyplot.plot([0, 1], [0, 1],'r--')\n",
    "pyplot.xlim([0, 1])\n",
    "pyplot.ylim([0, 1])\n",
    "pyplot.legend()\n",
    "# show the plot\n",
    "pyplot.show()"
   ]
  },
  {
   "cell_type": "code",
   "execution_count": 0,
   "metadata": {
    "colab": {},
    "colab_type": "code",
    "id": "N9GtHy_hRM34"
   },
   "outputs": [],
   "source": []
  },
  {
   "cell_type": "code",
   "execution_count": 0,
   "metadata": {
    "colab": {},
    "colab_type": "code",
    "id": "zijUBuk9SODz"
   },
   "outputs": [],
   "source": []
  },
  {
   "cell_type": "code",
   "execution_count": 0,
   "metadata": {
    "colab": {},
    "colab_type": "code",
    "id": "aUWNPSM3TDG2"
   },
   "outputs": [],
   "source": []
  },
  {
   "cell_type": "code",
   "execution_count": 0,
   "metadata": {
    "colab": {},
    "colab_type": "code",
    "id": "NptWwwzTVOJZ"
   },
   "outputs": [],
   "source": []
  },
  {
   "cell_type": "code",
   "execution_count": 0,
   "metadata": {
    "colab": {},
    "colab_type": "code",
    "id": "qtNXZPNlVezW"
   },
   "outputs": [],
   "source": []
  }
 ],
 "metadata": {
  "accelerator": "GPU",
  "colab": {
   "collapsed_sections": [],
   "name": "independnt_prop.ipynb",
   "provenance": []
  },
  "kernelspec": {
   "display_name": "Python 3",
   "language": "python",
   "name": "python3"
  },
  "language_info": {
   "codemirror_mode": {
    "name": "ipython",
    "version": 3
   },
   "file_extension": ".py",
   "mimetype": "text/x-python",
   "name": "python",
   "nbconvert_exporter": "python",
   "pygments_lexer": "ipython3",
   "version": "3.7.4"
  }
 },
 "nbformat": 4,
 "nbformat_minor": 1
}
